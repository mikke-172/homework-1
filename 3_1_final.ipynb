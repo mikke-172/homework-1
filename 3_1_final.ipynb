{
 "cells": [
  {
   "cell_type": "markdown",
   "metadata": {},
   "source": [
    "# 3 Комбінації без повторень"
   ]
  },
  {
   "cell_type": "code",
   "execution_count": 1,
   "metadata": {},
   "outputs": [],
   "source": [
    "from itertools import combinations"
   ]
  },
  {
   "cell_type": "markdown",
   "metadata": {},
   "source": [
    "# 3.2 Задача\n",
    "Нехай n - розмір множини, k - розмір комбінацій. Виведіть всі можливі комбінації без повторень та порахуйте їх кількість для таких параметрів:\n",
    "\n",
    "n = 4, k = 2\n",
    "n = 4, k = 3\n",
    "n = 5, k = 2\n",
    "Порахуйте кількість комбінацій без повторень для таких параметрів:\n",
    "\n",
    "n = 6, k = 2\n",
    "n = 6, k = 4\n",
    "n = 8, k = 4"
   ]
  },
  {
   "cell_type": "code",
   "execution_count": 2,
   "metadata": {},
   "outputs": [
    {
     "name": "stdout",
     "output_type": "stream",
     "text": [
      "Комбінації довжини 2 множини {1, 2, 3, 4}: [(1, 2), (1, 3), (1, 4), (2, 3), (2, 4), (3, 4)]\n",
      "Кількість таких комбінацій: 6\n",
      "Комбінації довжини 3 множини {1, 2, 3, 4}: [(1, 2, 3), (1, 2, 4), (1, 3, 4), (2, 3, 4)]\n",
      "Кількість таких комбінацій: 4\n",
      "Комбінації довжини 2 множини {1, 2, 3, 4, 5}: [(1, 2), (1, 3), (1, 4), (1, 5), (2, 3), (2, 4), (2, 5), (3, 4), (3, 5), (4, 5)]\n",
      "Кількість таких комбінацій: 10\n"
     ]
    }
   ],
   "source": [
    "list0=[(4, 2), (4, 3), (5, 2)]\n",
    "for i in list0:\n",
    "    A=set(range(1, i[0]+1))\n",
    "    k=i[1]\n",
    "    choose_k = list(combinations(A,k))\n",
    "    print(\"Комбінації довжини {} множини {}: {}\".format(k,A,choose_k))\n",
    "    print(\"Кількість таких комбінацій: {}\".format(len(choose_k)  ))"
   ]
  },
  {
   "cell_type": "code",
   "execution_count": 3,
   "metadata": {},
   "outputs": [
    {
     "name": "stdout",
     "output_type": "stream",
     "text": [
      "Кількість таких комбінацій: 15\n",
      "Кількість таких комбінацій: 15\n",
      "Кількість таких комбінацій: 70\n"
     ]
    }
   ],
   "source": [
    "list1=[(6, 2), (6, 4), (8, 4)]\n",
    "for i in list1:\n",
    "        A=set(range(1, i[0]+1))\n",
    "        k=i[1]\n",
    "        choose_k = list(combinations(A,k))\n",
    "        print(\"Кількість таких комбінацій: {}\".format(len(choose_k)  ))"
   ]
  },
  {
   "cell_type": "markdown",
   "metadata": {},
   "source": [
    "# 3.3 Задача\n"
   ]
  },
  {
   "cell_type": "code",
   "execution_count": 4,
   "metadata": {},
   "outputs": [
    {
     "name": "stdout",
     "output_type": "stream",
     "text": [
      "суми можуть бути такими: {3, 4, 5, 6, 7, 8, 9, 10, 11, 12, 13, 14, 15, 16, 17}\n",
      "15\n"
     ]
    }
   ],
   "source": [
    "A=set(range(1, 10))\n",
    "choose_k = list(combinations(A,2))\n",
    "suma=set()\n",
    "for i in choose_k:\n",
    "    suma=suma|{sum(i)}\n",
    "print('суми можуть бути такими:', suma)\n",
    "print(len(suma))"
   ]
  }
 ],
 "metadata": {
  "kernelspec": {
   "display_name": "Python 3",
   "language": "python",
   "name": "python3"
  },
  "language_info": {
   "codemirror_mode": {
    "name": "ipython",
    "version": 3
   },
   "file_extension": ".py",
   "mimetype": "text/x-python",
   "name": "python",
   "nbconvert_exporter": "python",
   "pygments_lexer": "ipython3",
   "version": "3.7.1"
  }
 },
 "nbformat": 4,
 "nbformat_minor": 2
}
