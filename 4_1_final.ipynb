{
 "cells": [
  {
   "cell_type": "markdown",
   "metadata": {},
   "source": [
    "# 4 Комбінації з повтореннями"
   ]
  },
  {
   "cell_type": "code",
   "execution_count": 1,
   "metadata": {},
   "outputs": [],
   "source": [
    "from itertools import  combinations_with_replacement"
   ]
  },
  {
   "cell_type": "markdown",
   "metadata": {},
   "source": [
    "4.2 Задача\n",
    "Нехай n - розмір множини, k - розмір комбінацій. Виведіть всі можливі комбінації з повтореннями та порахуйте їх кількість для таких параметрів:\n",
    "\n",
    "n = 4, k = 2\n",
    "n = 4, k = 3\n",
    "n = 5, k = 2\n",
    "Порахуйте кількість комбінацій з повтореннями для таких параметрів:\n",
    "\n",
    "n = 6, k = 2\n",
    "n = 6, k = 4\n",
    "n = 8, k = 4"
   ]
  },
  {
   "cell_type": "code",
   "execution_count": 2,
   "metadata": {},
   "outputs": [
    {
     "name": "stdout",
     "output_type": "stream",
     "text": [
      "Комбінації довжини 2 множини {1, 2, 3, 4}: [(1, 1), (1, 2), (1, 3), (1, 4), (2, 2), (2, 3), (2, 4), (3, 3), (3, 4), (4, 4)]\n",
      "Кількість таких комбінацій: 10\n",
      "Комбінації довжини 3 множини {1, 2, 3, 4}: [(1, 1, 1), (1, 1, 2), (1, 1, 3), (1, 1, 4), (1, 2, 2), (1, 2, 3), (1, 2, 4), (1, 3, 3), (1, 3, 4), (1, 4, 4), (2, 2, 2), (2, 2, 3), (2, 2, 4), (2, 3, 3), (2, 3, 4), (2, 4, 4), (3, 3, 3), (3, 3, 4), (3, 4, 4), (4, 4, 4)]\n",
      "Кількість таких комбінацій: 20\n",
      "Комбінації довжини 2 множини {1, 2, 3, 4, 5}: [(1, 1), (1, 2), (1, 3), (1, 4), (1, 5), (2, 2), (2, 3), (2, 4), (2, 5), (3, 3), (3, 4), (3, 5), (4, 4), (4, 5), (5, 5)]\n",
      "Кількість таких комбінацій: 15\n"
     ]
    }
   ],
   "source": [
    "list0=[(4, 2), (4, 3), (5, 2)]\n",
    "for i in list0:\n",
    "    A=set(range(1, i[0]+1))\n",
    "    k=i[1]\n",
    "    choose_k = list(combinations_with_replacement(A,k))\n",
    "    print(\"Комбінації довжини {} множини {}: {}\".format(k,A,choose_k))\n",
    "    print(\"Кількість таких комбінацій: {}\".format(len(choose_k)))"
   ]
  },
  {
   "cell_type": "code",
   "execution_count": 3,
   "metadata": {},
   "outputs": [
    {
     "name": "stdout",
     "output_type": "stream",
     "text": [
      "Кількість таких комбінацій: 21\n",
      "Кількість таких комбінацій: 126\n",
      "Кількість таких комбінацій: 330\n"
     ]
    }
   ],
   "source": [
    "list1=[(6, 2), (6, 4), (8, 4)]\n",
    "for i in list1:\n",
    "    A=set(range(1, i[0]+1))\n",
    "    k=i[1]\n",
    "    choose_k = list(combinations_with_replacement(A,k))\n",
    "    print(\"Кількість таких комбінацій: {}\".format(len(choose_k)))"
   ]
  },
  {
   "cell_type": "markdown",
   "metadata": {},
   "source": [
    "# 4.3 Задача\n",
    "Скільки існує 6-цифрових наборів таких, що сума перших трьох цифр дорівнює сумі останніх трьох?"
   ]
  },
  {
   "cell_type": "code",
   "execution_count": 4,
   "metadata": {},
   "outputs": [],
   "source": [
    "from itertools import product"
   ]
  },
  {
   "cell_type": "code",
   "execution_count": 5,
   "metadata": {},
   "outputs": [],
   "source": [
    "list3=(list(product('0123456789', repeat=3)))\n",
    "list4=(list(product('0123456789', repeat=3)))\n",
    "list5=[]\n",
    "for i in list3:\n",
    "    if i[0]!='0':\n",
    "        for j in list4:\n",
    "            if int(i[0])+int(i[1])+int(i[2])==int(j[0])+int(j[1])+int(j[2]):\n",
    "                list5.append(str(i[0])+str(i[1])+str(i[2])+str(j[0])+str(j[1])+str(j[2]))\n",
    "#print(list5)"
   ]
  },
  {
   "cell_type": "code",
   "execution_count": 6,
   "metadata": {},
   "outputs": [
    {
     "name": "stdout",
     "output_type": "stream",
     "text": [
      "50412\n"
     ]
    }
   ],
   "source": [
    "print(len(list5))"
   ]
  },
  {
   "cell_type": "code",
   "execution_count": 8,
   "metadata": {},
   "outputs": [
    {
     "name": "stdout",
     "output_type": "stream",
     "text": [
      "531441\n"
     ]
    }
   ],
   "source": [
    "list6=(list(product('0123456789', repeat=6)))\n",
    "list7=[]\n",
    "for i in list6:\n",
    "    \n",
    "    if i[0]!='0':\n",
    "        Flag=True\n",
    "        for j in range (1, len (i)):\n",
    "            if i[j-1]==i[j]:\n",
    "                Flag=False\n",
    "                break\n",
    "    else:\n",
    "        Flag=False\n",
    "    if Flag==True:\n",
    "        list7.append(i)\n",
    "print(len(list7))\n",
    "                "
   ]
  }
 ],
 "metadata": {
  "kernelspec": {
   "display_name": "Python 3",
   "language": "python",
   "name": "python3"
  },
  "language_info": {
   "codemirror_mode": {
    "name": "ipython",
    "version": 3
   },
   "file_extension": ".py",
   "mimetype": "text/x-python",
   "name": "python",
   "nbconvert_exporter": "python",
   "pygments_lexer": "ipython3",
   "version": "3.7.1"
  }
 },
 "nbformat": 4,
 "nbformat_minor": 2
}
