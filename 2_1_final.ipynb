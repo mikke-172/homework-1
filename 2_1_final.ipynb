{
 "cells": [
  {
   "cell_type": "markdown",
   "metadata": {},
   "source": [
    "\n",
    "2.2 Задача\n",
    "Нехай n - розмір множини, k - розмір перестановок. Виведіть всі можливі часткові перестановки та порахуйте їх кількість для таких параметрів:\n",
    "\n",
    "n = 4, k = 2\n",
    "n = 4, k = 3\n",
    "n = 5, k = 2\n",
    "Порахуйте кількість часткових перестановок для таких параметрів:\n",
    "\n",
    "n = 6, k = 2\n",
    "n = 6, k = 4\n",
    "n = 8, k = 4"
   ]
  },
  {
   "cell_type": "code",
   "execution_count": 1,
   "metadata": {},
   "outputs": [
    {
     "name": "stdout",
     "output_type": "stream",
     "text": [
      "Перестановки довжини 2 множини {1, 2, 3, 4}: [(1, 2), (1, 3), (1, 4), (2, 1), (2, 3), (2, 4), (3, 1), (3, 2), (3, 4), (4, 1), (4, 2), (4, 3)]\n",
      "Кількість таких перестановок: 12\n",
      "Перестановки довжини 3 множини {1, 2, 3, 4}: [(1, 2, 3), (1, 2, 4), (1, 3, 2), (1, 3, 4), (1, 4, 2), (1, 4, 3), (2, 1, 3), (2, 1, 4), (2, 3, 1), (2, 3, 4), (2, 4, 1), (2, 4, 3), (3, 1, 2), (3, 1, 4), (3, 2, 1), (3, 2, 4), (3, 4, 1), (3, 4, 2), (4, 1, 2), (4, 1, 3), (4, 2, 1), (4, 2, 3), (4, 3, 1), (4, 3, 2)]\n",
      "Кількість таких перестановок: 24\n",
      "Перестановки довжини 2 множини {1, 2, 3, 4, 5}: [(1, 2), (1, 3), (1, 4), (1, 5), (2, 1), (2, 3), (2, 4), (2, 5), (3, 1), (3, 2), (3, 4), (3, 5), (4, 1), (4, 2), (4, 3), (4, 5), (5, 1), (5, 2), (5, 3), (5, 4)]\n",
      "Кількість таких перестановок: 20\n"
     ]
    }
   ],
   "source": [
    "from itertools import permutations\n",
    "list0=[(4, 2), (4, 3), (5, 2)]\n",
    "for i in list0:\n",
    "    A=set(range(1, i[0]+1))\n",
    "    k=i[1]\n",
    "    permute_k = list(permutations(A, k))\n",
    "    print(\"Перестановки довжини {} множини {}: {}\".format(k,A,permute_k))\n",
    "    print(\"Кількість таких перестановок: {}\".format(len(permute_k)))"
   ]
  },
  {
   "cell_type": "code",
   "execution_count": 2,
   "metadata": {},
   "outputs": [
    {
     "name": "stdout",
     "output_type": "stream",
     "text": [
      "Кількість таких перестановок: 30\n",
      "Кількість таких перестановок: 360\n",
      "Кількість таких перестановок: 1680\n"
     ]
    }
   ],
   "source": [
    "list1=[(6, 2), (6, 4), (8, 4)]\n",
    "for i in list1:\n",
    "    A=set(range(1, i[0]+1))\n",
    "    k=i[1]\n",
    "    permute_k = list(permutations(A, k))\n",
    "    print(\"Кількість таких перестановок: {}\".format(len(permute_k)))"
   ]
  }
 ],
 "metadata": {
  "kernelspec": {
   "display_name": "Python 3",
   "language": "python",
   "name": "python3"
  },
  "language_info": {
   "codemirror_mode": {
    "name": "ipython",
    "version": 3
   },
   "file_extension": ".py",
   "mimetype": "text/x-python",
   "name": "python",
   "nbconvert_exporter": "python",
   "pygments_lexer": "ipython3",
   "version": "3.7.1"
  }
 },
 "nbformat": 4,
 "nbformat_minor": 2
}
